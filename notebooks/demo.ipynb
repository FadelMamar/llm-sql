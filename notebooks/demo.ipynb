{
 "cells": [
  {
   "cell_type": "code",
   "execution_count": 12,
   "metadata": {},
   "outputs": [],
   "source": [
    "# Imports\n",
    "from llmsql.config import Arguments, SettingsManager, Settings\n",
    "from llmsql.llm import ModelManager\n",
    "from llmsql.db import Database\n",
    "from dotenv import load_dotenv"
   ]
  },
  {
   "cell_type": "code",
   "execution_count": 13,
   "metadata": {},
   "outputs": [
    {
     "name": "stdout",
     "output_type": "stream",
     "text": [
      "Successfully connected to the PostgreSQL database\n"
     ]
    }
   ],
   "source": [
    "db = Database(db_name=\"dvdrental\",user_name=\"postgres\",pwd=\"****\",host=\"localhost\",port=5432)\n",
    "sql_database = db.get_sql_db()"
   ]
  },
  {
   "cell_type": "code",
   "execution_count": 3,
   "metadata": {},
   "outputs": [],
   "source": [
    "# dir(sql_database)"
   ]
  },
  {
   "cell_type": "code",
   "execution_count": 14,
   "metadata": {},
   "outputs": [
    {
     "data": {
      "text/plain": [
       "['actor',\n",
       " 'address',\n",
       " 'category',\n",
       " 'city',\n",
       " 'country',\n",
       " 'customer',\n",
       " 'film',\n",
       " 'film_actor',\n",
       " 'film_category',\n",
       " 'inventory',\n",
       " 'language',\n",
       " 'payment',\n",
       " 'rental',\n",
       " 'staff',\n",
       " 'store']"
      ]
     },
     "execution_count": 14,
     "metadata": {},
     "output_type": "execute_result"
    }
   ],
   "source": [
    "tables = sql_database.get_usable_table_names()\n",
    "tables"
   ]
  },
  {
   "cell_type": "code",
   "execution_count": 21,
   "metadata": {},
   "outputs": [],
   "source": [
    "# load env variables\n",
    "load_dotenv(\"../.env\")\n",
    "\n",
    "# Set llm\n",
    "args = Arguments()\n",
    "\n",
    "args.llm_type = 'ollama' # gemini ollama deepseek\n",
    "args.llm_name = 'sqlcoder:latest' # 'deepseek-r1:7b' sqlcoder:latest 'qwen2.5:7b' 'smollm:latest' 'models/gemini-1.5-flash' 'deepseek-chat', 'deepseek-reasoner'\n",
    "args.temperature = 0.6\n",
    "args.tokenizer_name = 'defog/sqlcoder-7b-2' # 'deepseek-ai/DeepSeek-R1' 'Qwen/Qwen2.5-7B-Instruct' 'defog/sqlcoder-7b-2'\n",
    "\n",
    "args.context_window = 8000\n",
    "args.num_output = 512\n",
    "\n",
    "args.is_openvino_embed = True\n",
    "args.embed_model = r\"D:\\llm-sql\\models\\kalm_ov\"\n",
    "\n",
    "SettingsManager.set_settings(args=args)"
   ]
  },
  {
   "cell_type": "code",
   "execution_count": 22,
   "metadata": {},
   "outputs": [
    {
     "name": "stdout",
     "output_type": "stream",
     "text": [
      "callback_manager=<llama_index.core.callbacks.base.CallbackManager object at 0x0000022480A2B590> system_prompt=None messages_to_prompt=<function messages_to_prompt at 0x000002238B0F4C20> completion_to_prompt=<function default_completion_to_prompt at 0x000002238B1BE980> output_parser=None pydantic_program_mode=<PydanticProgramMode.DEFAULT: 'default'> query_wrapper_prompt=None base_url='http://localhost:11434' model='sqlcoder:latest' temperature=0.6 context_window=8000 request_timeout=20000.0 prompt_key='prompt' json_mode=False additional_kwargs={} is_function_calling_model=True keep_alive=None\n",
      "\n",
      "functools.partial(<bound method PreTrainedTokenizerBase.encode of CodeLlamaTokenizerFast(name_or_path='defog/sqlcoder-7b-2', vocab_size=32016, model_max_length=8000, is_fast=True, padding_side='left', truncation_side='right', special_tokens={'bos_token': '<s>', 'eos_token': '</s>', 'unk_token': '<unk>', 'additional_special_tokens': ['▁<PRE>', '▁<MID>', '▁<SUF>', '▁<EOT>', '▁<PRE>', '▁<MID>', '▁<SUF>', '▁<EOT>']}, clean_up_tokenization_spaces=False),  added_tokens_decoder={\n",
      "\t0: AddedToken(\"<unk>\", rstrip=False, lstrip=False, single_word=False, normalized=False, special=True),\n",
      "\t1: AddedToken(\"<s>\", rstrip=False, lstrip=False, single_word=False, normalized=False, special=True),\n",
      "\t2: AddedToken(\"</s>\", rstrip=False, lstrip=False, single_word=False, normalized=False, special=True),\n",
      "\t32007: AddedToken(\"▁<PRE>\", rstrip=False, lstrip=False, single_word=False, normalized=False, special=True),\n",
      "\t32008: AddedToken(\"▁<SUF>\", rstrip=False, lstrip=False, single_word=False, normalized=False, special=True),\n",
      "\t32009: AddedToken(\"▁<MID>\", rstrip=False, lstrip=False, single_word=False, normalized=False, special=True),\n",
      "\t32010: AddedToken(\"▁<EOT>\", rstrip=False, lstrip=False, single_word=False, normalized=False, special=True),\n",
      "}>, add_special_tokens=False)\n",
      "\n",
      "512\n",
      "\n",
      "8000\n",
      "\n"
     ]
    }
   ],
   "source": [
    "# sanity check\n",
    "for a in (Settings.llm,Settings.tokenizer,Settings.num_output,Settings.context_window):\n",
    "    print(a,end=\"\\n\\n\")"
   ]
  },
  {
   "cell_type": "code",
   "execution_count": 23,
   "metadata": {},
   "outputs": [
    {
     "name": "stdout",
     "output_type": "stream",
     "text": [
      "query engine has been built.\n"
     ]
    }
   ],
   "source": [
    "# Build query engine\n",
    "db.build_query_engine(sql_database=sql_database,\n",
    "                      tables=sql_database.get_usable_table_names(),\n",
    "                      sql_table_schemas=None)"
   ]
  },
  {
   "cell_type": "code",
   "execution_count": 24,
   "metadata": {},
   "outputs": [],
   "source": [
    "response = db.query_text(\"How many unique actors are there?\")"
   ]
  },
  {
   "cell_type": "code",
   "execution_count": 25,
   "metadata": {},
   "outputs": [
    {
     "data": {
      "text/plain": [
       "'1000'"
      ]
     },
     "execution_count": 25,
     "metadata": {},
     "output_type": "execute_result"
    }
   ],
   "source": [
    "str(response)"
   ]
  },
  {
   "cell_type": "code",
   "execution_count": 26,
   "metadata": {},
   "outputs": [
    {
     "data": {
      "text/plain": [
       "'WITH actor_film AS (SELECT a.actor_id, f.film_id FROM actor a CROSS JOIN film f), film_count AS (SELECT actor_id, COUNT(film_id) AS number_of_films FROM actor_film GROUP BY actor_id) SELECT MAX(number_of_films) FROM film_count;'"
      ]
     },
     "execution_count": 26,
     "metadata": {},
     "output_type": "execute_result"
    }
   ],
   "source": [
    "response.metadata['sql_query']"
   ]
  }
 ],
 "metadata": {
  "kernelspec": {
   "display_name": "demo-nigelec",
   "language": "python",
   "name": "python3"
  },
  "language_info": {
   "codemirror_mode": {
    "name": "ipython",
    "version": 3
   },
   "file_extension": ".py",
   "mimetype": "text/x-python",
   "name": "python",
   "nbconvert_exporter": "python",
   "pygments_lexer": "ipython3",
   "version": "3.11.11"
  }
 },
 "nbformat": 4,
 "nbformat_minor": 2
}
